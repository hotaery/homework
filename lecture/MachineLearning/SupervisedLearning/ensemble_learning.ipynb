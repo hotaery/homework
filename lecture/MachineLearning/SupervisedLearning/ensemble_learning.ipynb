{
 "cells": [
  {
   "cell_type": "code",
   "execution_count": null,
   "metadata": {},
   "outputs": [],
   "source": []
  },
  {
   "cell_type": "markdown",
   "metadata": {},
   "source": [
    "# 集成学习\n",
    "\n",
    "集成学习(Ensemble Learning)是一种训练多个模型然后将它们组合起来作为一个集成模型的机器学习技术。"
   ]
  }
 ],
 "metadata": {
  "language_info": {
   "name": "python"
  }
 },
 "nbformat": 4,
 "nbformat_minor": 2
}
