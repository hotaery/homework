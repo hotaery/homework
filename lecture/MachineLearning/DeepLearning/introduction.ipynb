{
 "cells": [
  {
   "cell_type": "code",
   "execution_count": 2,
   "metadata": {},
   "outputs": [],
   "source": [
    "import torch"
   ]
  },
  {
   "cell_type": "markdown",
   "metadata": {},
   "source": [
    "# 课程准备\n",
    "\n",
    "## PyTorch基本使用\n",
    "\n",
    "### 什么是张量\n",
    "\n",
    "张量(tensor)是一个由数值构成的数组，可以有多个维度。\n",
    "\n",
    "构建一个一维数组，其包含12个`int64`类型的元素"
   ]
  },
  {
   "cell_type": "code",
   "execution_count": 3,
   "metadata": {},
   "outputs": [
    {
     "name": "stdout",
     "output_type": "stream",
     "text": [
      "shape: torch.Size([12]), number element: 12, type of element: torch.int64\n",
      "tensor([ 0,  1,  2,  3,  4,  5,  6,  7,  8,  9, 10, 11])\n"
     ]
    }
   ],
   "source": [
    "x: torch.Tensor = torch.arange(12)\n",
    "print(f\"shape: {x.shape}, number element: {x.numel()}, type of element: {x.dtype}\")\n",
    "print(x)"
   ]
  },
  {
   "cell_type": "markdown",
   "metadata": {},
   "source": [
    "可以使用`reshape`改变一个张量的形状"
   ]
  },
  {
   "cell_type": "code",
   "execution_count": 4,
   "metadata": {},
   "outputs": [
    {
     "name": "stdout",
     "output_type": "stream",
     "text": [
      "shape:  torch.Size([3, 4])\n",
      "tensor([[ 0,  1,  2,  3],\n",
      "        [ 4,  5,  6,  7],\n",
      "        [ 8,  9, 10, 11]])\n"
     ]
    }
   ],
   "source": [
    "x = x.reshape(3, 4)\n",
    "print(\"shape: \", x.shape)\n",
    "print(x)"
   ]
  },
  {
   "cell_type": "markdown",
   "metadata": {},
   "source": [
    "### 常用的张量操作\n",
    "\n",
    "#### `cat`\n",
    "可以使用`cat`将多个有着相同形状(shape)的张量拼接起来，其中`dim`表示拼接的维度\n",
    "\n",
    "比如现在有两个维度为$n$的张量$X$和$Y$，`dim`可取的范围为$[-n, n-1]$\n",
    "\n",
    "$$\n",
    "cat((X, Y), dim=d)=\\begin{cases}\n",
    "cat((X, Y), dim=d+n) &, d \\lt 0 \\\\\\\\\n",
    "X \\ \\mathbf{join} \\ Y &, d=0 \\\\\\\\\n",
    "X[i_0][i_1]\\cdots[i_{d-1}]+Y[i_0][i_1]\\cdots[i_{d-1}], i_k \\in \\{0, 1, 2, \\cdots X.shape[k]-1\\} &, d > 0\n",
    "\\end{cases}$$\n",
    "\n",
    "其中\n",
    "\n",
    "$$Z=X\\ \\mathbf{join} \\ Y=[X[0], X[1], \\cdots, Y[0], Y[1], \\cdots]$$"
   ]
  },
  {
   "cell_type": "code",
   "execution_count": 16,
   "metadata": {},
   "outputs": [
    {
     "name": "stdout",
     "output_type": "stream",
     "text": [
      "X=tensor([[[ 0.,  1.,  2.],\n",
      "         [ 3.,  4.,  5.]],\n",
      "\n",
      "        [[ 6.,  7.,  8.],\n",
      "         [ 9., 10., 11.]]])\n",
      " Y=tensor([[[12., 13., 14.],\n",
      "         [15., 16., 17.]],\n",
      "\n",
      "        [[18., 19., 20.],\n",
      "         [21., 22., 23.]]])\n"
     ]
    },
    {
     "data": {
      "text/plain": [
       "tensor([[[ 0.,  1.,  2., 12., 13., 14.],\n",
       "         [ 3.,  4.,  5., 15., 16., 17.]],\n",
       "\n",
       "        [[ 6.,  7.,  8., 18., 19., 20.],\n",
       "         [ 9., 10., 11., 21., 22., 23.]]])"
      ]
     },
     "execution_count": 16,
     "metadata": {},
     "output_type": "execute_result"
    }
   ],
   "source": [
    "X = torch.arange(12, dtype=torch.float32).reshape((2, 2, 3))\n",
    "Y = torch.arange(12, 24, dtype=torch.float32).reshape((2, 2, 3))\n",
    "print(f\"X={X}\\n Y={Y}\")\n",
    "torch.cat((X, Y), dim=2)"
   ]
  },
  {
   "cell_type": "markdown",
   "metadata": {},
   "source": [
    "### 广播(broadcasting)\n",
    "\n",
    "在正常情况，对两个张量执行任意操作的前提是两个张量有一样的形状。但是PyTorch允许两个张量即使形状不同也可以执行，这种机制称为[广播](https://numpy.org/doc/stable/user/basics.broadcasting.html#basics-broadcasting)。\n",
    "\n",
    "```python\n",
    ">>> a = np.array([1.0, 2.0, 3.0])\n",
    ">>> b = np.array([2.0, 2.0, 2.0])\n",
    ">>> a * b\n",
    "array([2.,  4.,  6.])\n",
    "```\n",
    "\n",
    "`PyTorch`在执行张量的操作之前会检查两个张量的形状，从右往左一个一个元素比较\n",
    "\n",
    "$$\\begin{aligned}\n",
    "A: a_0 \\times &a_1 \\cdots \\times a_n \\\\\n",
    "B: \\ \\ \\ \\ \\ \\ \\ \\ &b_0 \\cdots \\times b_n\n",
    "\\end{aligned}$$\n",
    "\n",
    "只有下面两种情况，检查才会成功，否则会抛出`ValueError`的异常\n",
    "- 元素相等\n",
    "- 其中一个是1\n",
    "\n",
    "当检查通过后，但是张量形状不一致时，会将张量广播成形状一致的张量，比如\n",
    "\n",
    "$$\\begin{aligned}\n",
    "A&: 8 \\times 1 \\times 6 \\times 1 \\\\\n",
    "B&: \\ \\ \\ \\ \\ \\ \\ 7 \\times 1 \\times 5 \\\\\n",
    "Result&: 8\\times7\\times6\\times5\n",
    "\\end{aligned}$$\n",
    "\n",
    "对于需要广播的张量，比如维度$d_{old}$需要广播到$d_{new}$，那么会将$\\{d_{old+1}, d_{old+2}, \\cdots, d_{old+n-1}\\}$复制$d_{new}-1$个\n",
    "\n",
    "比如\n",
    "```python\n",
    ">>> a = np.array([[ 0.0,  0.0,  0.0],\n",
    "...               [10.0, 10.0, 10.0],\n",
    "...               [20.0, 20.0, 20.0],\n",
    "...               [30.0, 30.0, 30.0]])\n",
    ">>> b = np.array([1.0, 2.0, 3.0])\n",
    ">>> a + b\n",
    "array([[  1.,   2.,   3.],\n",
    "        [11.,  12.,  13.],\n",
    "        [21.,  22.,  23.],\n",
    "        [31.,  32.,  33.]])\n",
    ">>> b = np.array([1.0, 2.0, 3.0, 4.0])\n",
    ">>> a + b\n",
    "Traceback (most recent call last):\n",
    "ValueError: operands could not be broadcast together with shapes (4,3) (4,)\n",
    "```\n",
    "\n",
    "![](../resources/broadcasting_1.png)\n",
    "\n",
    "![](../resources/broadcasting_2.png)"
   ]
  },
  {
   "cell_type": "code",
   "execution_count": 10,
   "metadata": {},
   "outputs": [
    {
     "name": "stdout",
     "output_type": "stream",
     "text": [
      "a=tensor([[0],\n",
      "        [1],\n",
      "        [2]])\n",
      "b=tensor([[0, 1]])\n",
      "broadcasted_a=tensor([[0, 0],\n",
      "        [1, 1],\n",
      "        [2, 2]])\n",
      "broadcasted_b=tensor([[0, 1],\n",
      "        [0, 1],\n",
      "        [0, 1]])\n"
     ]
    },
    {
     "data": {
      "text/plain": [
       "tensor([[0, 1],\n",
       "        [1, 2],\n",
       "        [2, 3]])"
      ]
     },
     "execution_count": 10,
     "metadata": {},
     "output_type": "execute_result"
    }
   ],
   "source": [
    "a = torch.arange(3).reshape(3, 1)\n",
    "b = torch.arange(2).reshape(1, 2)\n",
    "print(f\"a={a}\\nb={b}\\nbroadcasted_a={torch.cat((a, a), dim=1)}\\nbroadcasted_b={torch.cat((b, b, b))}\")\n",
    "a + b"
   ]
  },
  {
   "cell_type": "code",
   "execution_count": null,
   "metadata": {},
   "outputs": [],
   "source": []
  }
 ],
 "metadata": {
  "kernelspec": {
   "display_name": "Python 3",
   "language": "python",
   "name": "python3"
  },
  "language_info": {
   "codemirror_mode": {
    "name": "ipython",
    "version": 3
   },
   "file_extension": ".py",
   "mimetype": "text/x-python",
   "name": "python",
   "nbconvert_exporter": "python",
   "pygments_lexer": "ipython3",
   "version": "3.8.2"
  }
 },
 "nbformat": 4,
 "nbformat_minor": 2
}
